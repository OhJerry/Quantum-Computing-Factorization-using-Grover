{
  "nbformat": 4,
  "nbformat_minor": 0,
  "metadata": {
    "colab": {
      "name": "Quantum_Project.ipynb",
      "provenance": [],
      "collapsed_sections": []
    },
    "kernelspec": {
      "name": "python3",
      "display_name": "Python 3"
    }
  },
  "cells": [
    {
      "cell_type": "markdown",
      "metadata": {
        "id": "bgPFEKf0Eg3A",
        "colab_type": "text"
      },
      "source": [
        "# COMS 6998: Quantum Computing\n",
        "# Final Project\n",
        "# Grover Factorization\n",
        "\n"
      ]
    },
    {
      "cell_type": "code",
      "metadata": {
        "id": "SqQYReuNFTKE",
        "colab_type": "code",
        "outputId": "6d9f2089-e0c7-4746-802f-8769ef3a08bd",
        "colab": {
          "base_uri": "https://localhost:8080/",
          "height": 853
        }
      },
      "source": [
        "!pip install qiskit==0.16.2"
      ],
      "execution_count": 0,
      "outputs": [
        {
          "output_type": "stream",
          "text": [
            "Requirement already satisfied: qiskit==0.16.2 in /usr/local/lib/python3.6/dist-packages (0.16.2)\n",
            "Requirement already satisfied: qiskit-aqua==0.6.5 in /usr/local/lib/python3.6/dist-packages (from qiskit==0.16.2) (0.6.5)\n",
            "Requirement already satisfied: qiskit-aer==0.4.1 in /usr/local/lib/python3.6/dist-packages (from qiskit==0.16.2) (0.4.1)\n",
            "Requirement already satisfied: qiskit-ibmq-provider==0.5.0 in /usr/local/lib/python3.6/dist-packages (from qiskit==0.16.2) (0.5.0)\n",
            "Requirement already satisfied: qiskit-ignis==0.2.0 in /usr/local/lib/python3.6/dist-packages (from qiskit==0.16.2) (0.2.0)\n",
            "Requirement already satisfied: qiskit-terra==0.12.0 in /usr/local/lib/python3.6/dist-packages (from qiskit==0.16.2) (0.12.0)\n",
            "Requirement already satisfied: jsonschema>=2.6 in /usr/local/lib/python3.6/dist-packages (from qiskit-aqua==0.6.5->qiskit==0.16.2) (2.6.0)\n",
            "Requirement already satisfied: scipy>=1.0 in /usr/local/lib/python3.6/dist-packages (from qiskit-aqua==0.6.5->qiskit==0.16.2) (1.4.1)\n",
            "Requirement already satisfied: psutil>=5 in /usr/local/lib/python3.6/dist-packages (from qiskit-aqua==0.6.5->qiskit==0.16.2) (5.4.8)\n",
            "Requirement already satisfied: scikit-learn>=0.20.0 in /usr/local/lib/python3.6/dist-packages (from qiskit-aqua==0.6.5->qiskit==0.16.2) (0.22.2.post1)\n",
            "Requirement already satisfied: dlx in /usr/local/lib/python3.6/dist-packages (from qiskit-aqua==0.6.5->qiskit==0.16.2) (1.0.4)\n",
            "Requirement already satisfied: docplex in /usr/local/lib/python3.6/dist-packages (from qiskit-aqua==0.6.5->qiskit==0.16.2) (2.13.184)\n",
            "Requirement already satisfied: setuptools>=40.1.0 in /usr/local/lib/python3.6/dist-packages (from qiskit-aqua==0.6.5->qiskit==0.16.2) (46.1.3)\n",
            "Requirement already satisfied: h5py in /usr/local/lib/python3.6/dist-packages (from qiskit-aqua==0.6.5->qiskit==0.16.2) (2.10.0)\n",
            "Requirement already satisfied: networkx>=2.2 in /usr/local/lib/python3.6/dist-packages (from qiskit-aqua==0.6.5->qiskit==0.16.2) (2.4)\n",
            "Requirement already satisfied: fastdtw in /usr/local/lib/python3.6/dist-packages (from qiskit-aqua==0.6.5->qiskit==0.16.2) (0.3.4)\n",
            "Requirement already satisfied: quandl in /usr/local/lib/python3.6/dist-packages (from qiskit-aqua==0.6.5->qiskit==0.16.2) (3.5.0)\n",
            "Requirement already satisfied: pyscf; sys_platform == \"linux\" or (python_version < \"3.8\" and sys_platform != \"win32\") in /usr/local/lib/python3.6/dist-packages (from qiskit-aqua==0.6.5->qiskit==0.16.2) (1.7.1)\n",
            "Requirement already satisfied: sympy>=1.3 in /usr/local/lib/python3.6/dist-packages (from qiskit-aqua==0.6.5->qiskit==0.16.2) (1.5.1)\n",
            "Requirement already satisfied: numpy>=1.13 in /usr/local/lib/python3.6/dist-packages (from qiskit-aqua==0.6.5->qiskit==0.16.2) (1.18.2)\n",
            "Requirement already satisfied: cython>=0.27.1 in /usr/local/lib/python3.6/dist-packages (from qiskit-aer==0.4.1->qiskit==0.16.2) (0.29.16)\n",
            "Requirement already satisfied: pybind11>=2.4 in /usr/local/lib/python3.6/dist-packages (from qiskit-aer==0.4.1->qiskit==0.16.2) (2.5.0)\n",
            "Requirement already satisfied: requests>=2.19 in /usr/local/lib/python3.6/dist-packages (from qiskit-ibmq-provider==0.5.0->qiskit==0.16.2) (2.21.0)\n",
            "Requirement already satisfied: websockets<8,>=7 in /usr/local/lib/python3.6/dist-packages (from qiskit-ibmq-provider==0.5.0->qiskit==0.16.2) (7.0)\n",
            "Requirement already satisfied: requests-ntlm>=1.1.0 in /usr/local/lib/python3.6/dist-packages (from qiskit-ibmq-provider==0.5.0->qiskit==0.16.2) (1.1.0)\n",
            "Requirement already satisfied: nest-asyncio!=1.1.0,>=1.0.0 in /usr/local/lib/python3.6/dist-packages (from qiskit-ibmq-provider==0.5.0->qiskit==0.16.2) (1.3.2)\n",
            "Requirement already satisfied: arrow>=0.15.5 in /usr/local/lib/python3.6/dist-packages (from qiskit-ibmq-provider==0.5.0->qiskit==0.16.2) (0.15.5)\n",
            "Requirement already satisfied: dill>=0.3 in /usr/local/lib/python3.6/dist-packages (from qiskit-terra==0.12.0->qiskit==0.16.2) (0.3.1.1)\n",
            "Requirement already satisfied: ply>=3.10 in /usr/local/lib/python3.6/dist-packages (from qiskit-terra==0.12.0->qiskit==0.16.2) (3.11)\n",
            "Requirement already satisfied: marshmallow<4,>=3 in /usr/local/lib/python3.6/dist-packages (from qiskit-terra==0.12.0->qiskit==0.16.2) (3.5.1)\n",
            "Requirement already satisfied: marshmallow-polyfield<6,>=5.7 in /usr/local/lib/python3.6/dist-packages (from qiskit-terra==0.12.0->qiskit==0.16.2) (5.9)\n",
            "Requirement already satisfied: joblib>=0.11 in /usr/local/lib/python3.6/dist-packages (from scikit-learn>=0.20.0->qiskit-aqua==0.6.5->qiskit==0.16.2) (0.14.1)\n",
            "Requirement already satisfied: six in /usr/local/lib/python3.6/dist-packages (from docplex->qiskit-aqua==0.6.5->qiskit==0.16.2) (1.12.0)\n",
            "Requirement already satisfied: decorator>=4.3.0 in /usr/local/lib/python3.6/dist-packages (from networkx>=2.2->qiskit-aqua==0.6.5->qiskit==0.16.2) (4.4.2)\n",
            "Requirement already satisfied: pandas>=0.14 in /usr/local/lib/python3.6/dist-packages (from quandl->qiskit-aqua==0.6.5->qiskit==0.16.2) (1.0.3)\n",
            "Requirement already satisfied: inflection>=0.3.1 in /usr/local/lib/python3.6/dist-packages (from quandl->qiskit-aqua==0.6.5->qiskit==0.16.2) (0.4.0)\n",
            "Requirement already satisfied: more-itertools in /usr/local/lib/python3.6/dist-packages (from quandl->qiskit-aqua==0.6.5->qiskit==0.16.2) (8.2.0)\n",
            "Requirement already satisfied: python-dateutil in /usr/local/lib/python3.6/dist-packages (from quandl->qiskit-aqua==0.6.5->qiskit==0.16.2) (2.8.1)\n",
            "Requirement already satisfied: mpmath>=0.19 in /usr/local/lib/python3.6/dist-packages (from sympy>=1.3->qiskit-aqua==0.6.5->qiskit==0.16.2) (1.1.0)\n",
            "Requirement already satisfied: urllib3<1.25,>=1.21.1 in /usr/local/lib/python3.6/dist-packages (from requests>=2.19->qiskit-ibmq-provider==0.5.0->qiskit==0.16.2) (1.24.3)\n",
            "Requirement already satisfied: certifi>=2017.4.17 in /usr/local/lib/python3.6/dist-packages (from requests>=2.19->qiskit-ibmq-provider==0.5.0->qiskit==0.16.2) (2020.4.5.1)\n",
            "Requirement already satisfied: chardet<3.1.0,>=3.0.2 in /usr/local/lib/python3.6/dist-packages (from requests>=2.19->qiskit-ibmq-provider==0.5.0->qiskit==0.16.2) (3.0.4)\n",
            "Requirement already satisfied: idna<2.9,>=2.5 in /usr/local/lib/python3.6/dist-packages (from requests>=2.19->qiskit-ibmq-provider==0.5.0->qiskit==0.16.2) (2.8)\n",
            "Requirement already satisfied: ntlm-auth>=1.0.2 in /usr/local/lib/python3.6/dist-packages (from requests-ntlm>=1.1.0->qiskit-ibmq-provider==0.5.0->qiskit==0.16.2) (1.4.0)\n",
            "Requirement already satisfied: cryptography>=1.3 in /usr/local/lib/python3.6/dist-packages (from requests-ntlm>=1.1.0->qiskit-ibmq-provider==0.5.0->qiskit==0.16.2) (2.9)\n",
            "Requirement already satisfied: pytz>=2017.2 in /usr/local/lib/python3.6/dist-packages (from pandas>=0.14->quandl->qiskit-aqua==0.6.5->qiskit==0.16.2) (2018.9)\n",
            "Requirement already satisfied: cffi!=1.11.3,>=1.8 in /usr/local/lib/python3.6/dist-packages (from cryptography>=1.3->requests-ntlm>=1.1.0->qiskit-ibmq-provider==0.5.0->qiskit==0.16.2) (1.14.0)\n",
            "Requirement already satisfied: pycparser in /usr/local/lib/python3.6/dist-packages (from cffi!=1.11.3,>=1.8->cryptography>=1.3->requests-ntlm>=1.1.0->qiskit-ibmq-provider==0.5.0->qiskit==0.16.2) (2.20)\n"
          ],
          "name": "stdout"
        }
      ]
    },
    {
      "cell_type": "code",
      "metadata": {
        "id": "pE4Hutp3qNU8",
        "colab_type": "code",
        "outputId": "5c98967e-b80b-440a-b704-1c6aeee029bd",
        "colab": {
          "base_uri": "https://localhost:8080/",
          "height": 853
        }
      },
      "source": [
        "!pip install qiskit"
      ],
      "execution_count": 0,
      "outputs": [
        {
          "output_type": "stream",
          "text": [
            "Requirement already satisfied: qiskit in /usr/local/lib/python3.6/dist-packages (0.16.2)\n",
            "Requirement already satisfied: qiskit-terra==0.12.0 in /usr/local/lib/python3.6/dist-packages (from qiskit) (0.12.0)\n",
            "Requirement already satisfied: qiskit-aer==0.4.1 in /usr/local/lib/python3.6/dist-packages (from qiskit) (0.4.1)\n",
            "Requirement already satisfied: qiskit-ibmq-provider==0.5.0 in /usr/local/lib/python3.6/dist-packages (from qiskit) (0.5.0)\n",
            "Requirement already satisfied: qiskit-ignis==0.2.0 in /usr/local/lib/python3.6/dist-packages (from qiskit) (0.2.0)\n",
            "Requirement already satisfied: qiskit-aqua==0.6.5 in /usr/local/lib/python3.6/dist-packages (from qiskit) (0.6.5)\n",
            "Requirement already satisfied: marshmallow<4,>=3 in /usr/local/lib/python3.6/dist-packages (from qiskit-terra==0.12.0->qiskit) (3.5.1)\n",
            "Requirement already satisfied: psutil>=5 in /usr/local/lib/python3.6/dist-packages (from qiskit-terra==0.12.0->qiskit) (5.4.8)\n",
            "Requirement already satisfied: ply>=3.10 in /usr/local/lib/python3.6/dist-packages (from qiskit-terra==0.12.0->qiskit) (3.11)\n",
            "Requirement already satisfied: networkx>=2.2; python_version > \"3.5\" in /usr/local/lib/python3.6/dist-packages (from qiskit-terra==0.12.0->qiskit) (2.4)\n",
            "Requirement already satisfied: scipy>=1.0 in /usr/local/lib/python3.6/dist-packages (from qiskit-terra==0.12.0->qiskit) (1.4.1)\n",
            "Requirement already satisfied: dill>=0.3 in /usr/local/lib/python3.6/dist-packages (from qiskit-terra==0.12.0->qiskit) (0.3.1.1)\n",
            "Requirement already satisfied: jsonschema>=2.6 in /usr/local/lib/python3.6/dist-packages (from qiskit-terra==0.12.0->qiskit) (2.6.0)\n",
            "Requirement already satisfied: marshmallow-polyfield<6,>=5.7 in /usr/local/lib/python3.6/dist-packages (from qiskit-terra==0.12.0->qiskit) (5.9)\n",
            "Requirement already satisfied: numpy>=1.13 in /usr/local/lib/python3.6/dist-packages (from qiskit-terra==0.12.0->qiskit) (1.18.2)\n",
            "Requirement already satisfied: sympy>=1.3 in /usr/local/lib/python3.6/dist-packages (from qiskit-terra==0.12.0->qiskit) (1.5.1)\n",
            "Requirement already satisfied: cython>=0.27.1 in /usr/local/lib/python3.6/dist-packages (from qiskit-aer==0.4.1->qiskit) (0.29.16)\n",
            "Requirement already satisfied: pybind11>=2.4 in /usr/local/lib/python3.6/dist-packages (from qiskit-aer==0.4.1->qiskit) (2.5.0)\n",
            "Requirement already satisfied: nest-asyncio!=1.1.0,>=1.0.0 in /usr/local/lib/python3.6/dist-packages (from qiskit-ibmq-provider==0.5.0->qiskit) (1.3.2)\n",
            "Requirement already satisfied: websockets<8,>=7 in /usr/local/lib/python3.6/dist-packages (from qiskit-ibmq-provider==0.5.0->qiskit) (7.0)\n",
            "Requirement already satisfied: requests>=2.19 in /usr/local/lib/python3.6/dist-packages (from qiskit-ibmq-provider==0.5.0->qiskit) (2.21.0)\n",
            "Requirement already satisfied: requests-ntlm>=1.1.0 in /usr/local/lib/python3.6/dist-packages (from qiskit-ibmq-provider==0.5.0->qiskit) (1.1.0)\n",
            "Requirement already satisfied: arrow>=0.15.5 in /usr/local/lib/python3.6/dist-packages (from qiskit-ibmq-provider==0.5.0->qiskit) (0.15.5)\n",
            "Requirement already satisfied: setuptools>=40.1.0 in /usr/local/lib/python3.6/dist-packages (from qiskit-ignis==0.2.0->qiskit) (46.1.3)\n",
            "Requirement already satisfied: scikit-learn>=0.20.0 in /usr/local/lib/python3.6/dist-packages (from qiskit-aqua==0.6.5->qiskit) (0.22.2.post1)\n",
            "Requirement already satisfied: dlx in /usr/local/lib/python3.6/dist-packages (from qiskit-aqua==0.6.5->qiskit) (1.0.4)\n",
            "Requirement already satisfied: quandl in /usr/local/lib/python3.6/dist-packages (from qiskit-aqua==0.6.5->qiskit) (3.5.0)\n",
            "Requirement already satisfied: docplex in /usr/local/lib/python3.6/dist-packages (from qiskit-aqua==0.6.5->qiskit) (2.13.184)\n",
            "Requirement already satisfied: fastdtw in /usr/local/lib/python3.6/dist-packages (from qiskit-aqua==0.6.5->qiskit) (0.3.4)\n",
            "Requirement already satisfied: h5py in /usr/local/lib/python3.6/dist-packages (from qiskit-aqua==0.6.5->qiskit) (2.10.0)\n",
            "Requirement already satisfied: pyscf; sys_platform == \"linux\" or (python_version < \"3.8\" and sys_platform != \"win32\") in /usr/local/lib/python3.6/dist-packages (from qiskit-aqua==0.6.5->qiskit) (1.7.1)\n",
            "Requirement already satisfied: decorator>=4.3.0 in /usr/local/lib/python3.6/dist-packages (from networkx>=2.2; python_version > \"3.5\"->qiskit-terra==0.12.0->qiskit) (4.4.2)\n",
            "Requirement already satisfied: mpmath>=0.19 in /usr/local/lib/python3.6/dist-packages (from sympy>=1.3->qiskit-terra==0.12.0->qiskit) (1.1.0)\n",
            "Requirement already satisfied: chardet<3.1.0,>=3.0.2 in /usr/local/lib/python3.6/dist-packages (from requests>=2.19->qiskit-ibmq-provider==0.5.0->qiskit) (3.0.4)\n",
            "Requirement already satisfied: urllib3<1.25,>=1.21.1 in /usr/local/lib/python3.6/dist-packages (from requests>=2.19->qiskit-ibmq-provider==0.5.0->qiskit) (1.24.3)\n",
            "Requirement already satisfied: idna<2.9,>=2.5 in /usr/local/lib/python3.6/dist-packages (from requests>=2.19->qiskit-ibmq-provider==0.5.0->qiskit) (2.8)\n",
            "Requirement already satisfied: certifi>=2017.4.17 in /usr/local/lib/python3.6/dist-packages (from requests>=2.19->qiskit-ibmq-provider==0.5.0->qiskit) (2020.4.5.1)\n",
            "Requirement already satisfied: ntlm-auth>=1.0.2 in /usr/local/lib/python3.6/dist-packages (from requests-ntlm>=1.1.0->qiskit-ibmq-provider==0.5.0->qiskit) (1.4.0)\n",
            "Requirement already satisfied: cryptography>=1.3 in /usr/local/lib/python3.6/dist-packages (from requests-ntlm>=1.1.0->qiskit-ibmq-provider==0.5.0->qiskit) (2.9)\n",
            "Requirement already satisfied: python-dateutil in /usr/local/lib/python3.6/dist-packages (from arrow>=0.15.5->qiskit-ibmq-provider==0.5.0->qiskit) (2.8.1)\n",
            "Requirement already satisfied: joblib>=0.11 in /usr/local/lib/python3.6/dist-packages (from scikit-learn>=0.20.0->qiskit-aqua==0.6.5->qiskit) (0.14.1)\n",
            "Requirement already satisfied: pandas>=0.14 in /usr/local/lib/python3.6/dist-packages (from quandl->qiskit-aqua==0.6.5->qiskit) (1.0.3)\n",
            "Requirement already satisfied: six in /usr/local/lib/python3.6/dist-packages (from quandl->qiskit-aqua==0.6.5->qiskit) (1.12.0)\n",
            "Requirement already satisfied: more-itertools in /usr/local/lib/python3.6/dist-packages (from quandl->qiskit-aqua==0.6.5->qiskit) (8.2.0)\n",
            "Requirement already satisfied: inflection>=0.3.1 in /usr/local/lib/python3.6/dist-packages (from quandl->qiskit-aqua==0.6.5->qiskit) (0.4.0)\n",
            "Requirement already satisfied: cffi!=1.11.3,>=1.8 in /usr/local/lib/python3.6/dist-packages (from cryptography>=1.3->requests-ntlm>=1.1.0->qiskit-ibmq-provider==0.5.0->qiskit) (1.14.0)\n",
            "Requirement already satisfied: pytz>=2017.2 in /usr/local/lib/python3.6/dist-packages (from pandas>=0.14->quandl->qiskit-aqua==0.6.5->qiskit) (2018.9)\n",
            "Requirement already satisfied: pycparser in /usr/local/lib/python3.6/dist-packages (from cffi!=1.11.3,>=1.8->cryptography>=1.3->requests-ntlm>=1.1.0->qiskit-ibmq-provider==0.5.0->qiskit) (2.20)\n"
          ],
          "name": "stdout"
        }
      ]
    },
    {
      "cell_type": "code",
      "metadata": {
        "id": "RvJyVJDJEWCp",
        "colab_type": "code",
        "colab": {}
      },
      "source": [
        "from math import *\n",
        "%matplotlib inline\n",
        "# Importing standard Qiskit libraries and configuring account\n",
        "from qiskit import QuantumCircuit, execute, Aer, IBMQ, QuantumRegister, ClassicalRegister\n",
        "from qiskit.compiler import transpile, assemble\n",
        "from qiskit.tools.jupyter import *\n",
        "from qiskit.visualization import *"
      ],
      "execution_count": 0,
      "outputs": []
    },
    {
      "cell_type": "code",
      "metadata": {
        "id": "hYUF-tZtFCrr",
        "colab_type": "code",
        "outputId": "c16cf1dd-4d48-43bc-ff84-689c2a033619",
        "colab": {
          "base_uri": "https://localhost:8080/",
          "height": 187
        }
      },
      "source": [
        "# Load quantum provider backend\n",
        "IBMQ.save_account('f2e166dfcf7fe017018766af9b5f855fe698d22f7619ea8e7cd9a54e369e39fb896ac28078ccd4541b4d1f611e7e5d24ba45094b4253fc8b2b4701961e850d5c')\n",
        "provider = IBMQ.load_account()\n",
        "\n",
        "# provider = IBMQ.get_provider(hub='ibm-q-university', group='columbia-univers', project='comse-6998-2020')\n",
        "# provider = IBMQ.get_provider(hub='ibm-q', group='open', project='main')\n",
        "provider.backends()"
      ],
      "execution_count": 0,
      "outputs": [
        {
          "output_type": "stream",
          "text": [
            "Credentials already present. Set overwrite=True to overwrite.\n"
          ],
          "name": "stderr"
        },
        {
          "output_type": "execute_result",
          "data": {
            "text/plain": [
              "[<IBMQSimulator('ibmq_qasm_simulator') from IBMQ(hub='ibm-q', group='open', project='main')>,\n",
              " <IBMQBackend('ibmqx2') from IBMQ(hub='ibm-q', group='open', project='main')>,\n",
              " <IBMQBackend('ibmq_16_melbourne') from IBMQ(hub='ibm-q', group='open', project='main')>,\n",
              " <IBMQBackend('ibmq_vigo') from IBMQ(hub='ibm-q', group='open', project='main')>,\n",
              " <IBMQBackend('ibmq_ourense') from IBMQ(hub='ibm-q', group='open', project='main')>,\n",
              " <IBMQBackend('ibmq_london') from IBMQ(hub='ibm-q', group='open', project='main')>,\n",
              " <IBMQBackend('ibmq_burlington') from IBMQ(hub='ibm-q', group='open', project='main')>,\n",
              " <IBMQBackend('ibmq_essex') from IBMQ(hub='ibm-q', group='open', project='main')>,\n",
              " <IBMQBackend('ibmq_armonk') from IBMQ(hub='ibm-q', group='open', project='main')>]"
            ]
          },
          "metadata": {
            "tags": []
          },
          "execution_count": 5
        }
      ]
    },
    {
      "cell_type": "code",
      "metadata": {
        "id": "NjB9gJN_FFgt",
        "colab_type": "code",
        "outputId": "ec9ac6c6-e5dd-4db2-c5fd-d43d82e2273e",
        "colab": {
          "base_uri": "https://localhost:8080/",
          "height": 185
        }
      },
      "source": [
        "# For N = 4088459\n",
        "\n",
        "phi = pi/4\n",
        "theta = 2 * asin(sin(pi/6) / sin(phi) )\n",
        "# the same as: theta = pi / 2\n",
        "\n",
        "qr = QuantumRegister(2)   # Protocol uses 3 qubits\n",
        "cx = ClassicalRegister(2)\n",
        "qc = QuantumCircuit(qr, cx)\n",
        "\n",
        "qc.h(0)\n",
        "qc.h(1)\n",
        "qc.barrier()\n",
        "\n",
        "qc.cx(0, 1)\n",
        "qc.u1(-theta,1)\n",
        "qc.cx(0, 1)\n",
        "qc.barrier()\n",
        "\n",
        "qc.h(0)\n",
        "qc.h(1)\n",
        "qc.barrier()\n",
        "\n",
        "qc.x(0)\n",
        "qc.x(1)\n",
        "qc.u1(theta/2,1)\n",
        "qc.cx(0, 1)\n",
        "qc.u1(-theta/2,1)\n",
        "qc.cx(0, 1)\n",
        "qc.u1(theta/2,0)\n",
        "qc.barrier()\n",
        "\n",
        "qc.x(0)\n",
        "qc.x(1)\n",
        "qc.barrier()\n",
        "\n",
        "qc.h(0)\n",
        "qc.h(1)\n",
        "qc.barrier()\n",
        "\n",
        "qc.measure(0,0)\n",
        "qc.measure(1,1)\n",
        "qc.draw('mpl')"
      ],
      "execution_count": 0,
      "outputs": [
        {
          "output_type": "execute_result",
          "data": {
            "image/png": "[encoded data removed]",
            "text/plain": [
              "<Figure size 1453.23x204.68 with 1 Axes>"
            ]
          },
          "metadata": {
            "tags": []
          },
          "execution_count": 14
        }
      ]
    },
    {
      "cell_type": "code",
      "metadata": {
        "id": "JzEyArCmFQJW",
        "colab_type": "code",
        "outputId": "d1e32c9e-1e44-4249-b51d-a84c90cd39b3",
        "colab": {
          "base_uri": "https://localhost:8080/",
          "height": 349
        }
      },
      "source": [
        "backend = Aer.get_backend('qasm_simulator')\n",
        "job_sim = execute(qc, backend)\n",
        "sim_result = job_sim.result()\n",
        "\n",
        "measurement_result = sim_result.get_counts(qc)\n",
        "print(measurement_result)\n",
        "plot_histogram(measurement_result)"
      ],
      "execution_count": 0,
      "outputs": [
        {
          "output_type": "stream",
          "text": [
            "{'11': 503, '00': 521}\n"
          ],
          "name": "stdout"
        },
        {
          "output_type": "execute_result",
          "data": {
            "image/png": "[encoded data removed]",
            "text/plain": [
              "<Figure size 504x360 with 1 Axes>"
            ]
          },
          "metadata": {
            "tags": []
          },
          "execution_count": 20
        }
      ]
    },
    {
      "cell_type": "code",
      "metadata": {
        "id": "YcxlPAGuFfaS",
        "colab_type": "code",
        "colab": {}
      },
      "source": [
        ""
      ],
      "execution_count": 0,
      "outputs": []
    },
    {
      "cell_type": "code",
      "metadata": {
        "id": "NN2KrZ3hIQUQ",
        "colab_type": "code",
        "outputId": "23c3fdff-7deb-4427-ff0e-4cfba97cb8ef",
        "colab": {
          "base_uri": "https://localhost:8080/",
          "height": 549
        }
      },
      "source": [
        "# For N = 966887\n",
        "theta = 2/3 * asin(sqrt(2) / 2 )\n",
        "\n",
        "qr = QuantumRegister(4)   # Protocol uses 3 qubits\n",
        "cx = ClassicalRegister(4)\n",
        "qc = QuantumCircuit(qr, cx)\n",
        "\n",
        "qc.h(0)\n",
        "qc.h(1)\n",
        "qc.h(2)\n",
        "qc.h(3)\n",
        "qc.barrier()\n",
        "\n",
        "qc.cx(0, 1)\n",
        "qc.u1(theta,1)\n",
        "qc.cx(0, 1)\n",
        "qc.cx(0, 2)\n",
        "qc.u1(theta,2)\n",
        "qc.cx(0, 2)\n",
        "qc.cx(0, 3)\n",
        "qc.u1(theta,3)\n",
        "qc.cx(0, 3)\n",
        "qc.barrier()\n",
        "\n",
        "qc.cx(1, 2)\n",
        "qc.u1(-theta,2)\n",
        "qc.cx(1, 2)\n",
        "qc.cx(1, 3)\n",
        "qc.u1(-theta,3)\n",
        "qc.cx(1, 3)\n",
        "qc.cx(2, 3)\n",
        "qc.u1(-theta,3)\n",
        "qc.cx(2, 3)\n",
        "qc.barrier()\n",
        "\n",
        "qc.h(0)\n",
        "qc.h(1)\n",
        "qc.h(2)\n",
        "qc.h(3)\n",
        "qc.barrier()\n",
        "\n",
        "qc.x(0)\n",
        "qc.x(1)\n",
        "qc.x(2)\n",
        "qc.x(3)\n",
        "qc.barrier()\n",
        "\n",
        "qc.cu1(3*theta/4,0,3)\n",
        "qc.cx(0, 1)\n",
        "qc.cu1(-3*theta/4,1,3)\n",
        "qc.cx(0, 1)\n",
        "qc.cu1(3*theta/4,1,3)\n",
        "qc.cx(1, 2)\n",
        "qc.cu1(-3*theta/4,2,3)\n",
        "qc.cx(0, 2)\n",
        "qc.cu1(3*theta/4,2,3)\n",
        "qc.cx(1, 2)\n",
        "qc.cu1(-3*theta/4,2,3)\n",
        "qc.cx(0, 2)\n",
        "qc.cu1(3*theta/4,2,3)\n",
        "qc.barrier()\n",
        "\n",
        "qc.x(0)\n",
        "qc.x(1)\n",
        "qc.x(2)\n",
        "qc.x(3)\n",
        "qc.barrier()\n",
        "\n",
        "qc.h(0)\n",
        "qc.h(1)\n",
        "qc.h(2)\n",
        "qc.h(3)\n",
        "qc.barrier()\n",
        "\n",
        "qc.measure(3,3)\n",
        "qc.measure(2,2)\n",
        "qc.measure(1,1)\n",
        "qc.measure(0,0)\n",
        "qc.draw('mpl')"
      ],
      "execution_count": 0,
      "outputs": [
        {
          "output_type": "execute_result",
          "data": {
            "image/png": "[encoded data removed]",
            "text/plain": [
              "<Figure size 1704.86x686.28 with 1 Axes>"
            ]
          },
          "metadata": {
            "tags": []
          },
          "execution_count": 27
        }
      ]
    },
    {
      "cell_type": "code",
      "metadata": {
        "id": "MI8Y-KV5KxIL",
        "colab_type": "code",
        "outputId": "f4bec910-fc9e-4176-de3c-2734f073654a",
        "colab": {
          "base_uri": "https://localhost:8080/",
          "height": 385
        }
      },
      "source": [
        "backend = Aer.get_backend('qasm_simulator')\n",
        "job_sim = execute(qc, backend)\n",
        "sim_result = job_sim.result()\n",
        "\n",
        "measurement_result = sim_result.get_counts(qc)\n",
        "print(measurement_result)\n",
        "plot_histogram(measurement_result)"
      ],
      "execution_count": 0,
      "outputs": [
        {
          "output_type": "stream",
          "text": [
            "{'0101': 57, '0000': 54, '0110': 51, '1001': 60, '1111': 53, '1000': 7, '1110': 261, '0001': 262, '1010': 46, '0011': 68, '0100': 13, '1011': 11, '0010': 11, '1100': 55, '1101': 4, '0111': 11}\n"
          ],
          "name": "stdout"
        },
        {
          "output_type": "execute_result",
          "data": {
            "image/png": "[encoded data removed]",
            "text/plain": [
              "<Figure size 504x360 with 1 Axes>"
            ]
          },
          "metadata": {
            "tags": []
          },
          "execution_count": 28
        }
      ]
    },
    {
      "cell_type": "code",
      "metadata": {
        "id": "1lx5thXCIQzK",
        "colab_type": "code",
        "outputId": "0fe6b304-5a6f-4908-ecd1-7198a6211c5d",
        "colab": {
          "base_uri": "https://localhost:8080/",
          "height": 34
        }
      },
      "source": [
        "import numpy as np \n",
        "np.sqrt(3)/3"
      ],
      "execution_count": 0,
      "outputs": [
        {
          "output_type": "execute_result",
          "data": {
            "text/plain": [
              "0.5773502691896257"
            ]
          },
          "metadata": {
            "tags": []
          },
          "execution_count": 6
        }
      ]
    },
    {
      "cell_type": "code",
      "metadata": {
        "id": "mZph3FCdS5Nr",
        "colab_type": "code",
        "outputId": "ab126cce-3761-4d9c-8c63-14a5d25db061",
        "colab": {
          "base_uri": "https://localhost:8080/",
          "height": 34
        }
      },
      "source": [
        "from math import *\n",
        "sin(pi/6) / (sqrt(3)/2) \n"
      ],
      "execution_count": 0,
      "outputs": [
        {
          "output_type": "execute_result",
          "data": {
            "text/plain": [
              "0.5773502691896257"
            ]
          },
          "metadata": {
            "tags": []
          },
          "execution_count": 8
        }
      ]
    },
    {
      "cell_type": "code",
      "metadata": {
        "id": "9s92c2TjHUkr",
        "colab_type": "code",
        "outputId": "429d9842-55e6-4ce7-be75-439436cbe99f",
        "colab": {
          "base_uri": "https://localhost:8080/",
          "height": 185
        }
      },
      "source": [
        "# For N = 175\n",
        "theta = 2 * asin(sin(pi/6) / (sqrt(3)/2) )\n",
        "\n",
        "qr = QuantumRegister(2)   # Protocol uses 3 qubits\n",
        "cx = ClassicalRegister(2)\n",
        "qc = QuantumCircuit(qr, cx)\n",
        "\n",
        "qc.h(0)\n",
        "qc.h(1)\n",
        "qc.barrier()\n",
        "\n",
        "qc.u1(-theta/2,0)\n",
        "qc.u1(-theta/2,1)\n",
        "qc.cx(0, 1)\n",
        "qc.u1(theta/2,1)\n",
        "qc.cx(0, 1)\n",
        "qc.barrier()\n",
        "\n",
        "qc.h(0)\n",
        "qc.h(1)\n",
        "qc.barrier()\n",
        "\n",
        "qc.x(0)\n",
        "qc.x(1)\n",
        "qc.u1(theta/2,1)\n",
        "qc.cx(0, 1)\n",
        "qc.u1(-theta/2,1)\n",
        "qc.cx(0, 1)\n",
        "qc.u1(theta/2,0)\n",
        "qc.barrier()\n",
        "\n",
        "qc.x(0)\n",
        "qc.x(1)\n",
        "qc.barrier()\n",
        "\n",
        "qc.h(0)\n",
        "qc.h(1)\n",
        "qc.barrier()\n",
        "\n",
        "qc.measure(1,1)\n",
        "qc.measure(0,0)\n",
        "qc.draw('mpl')"
      ],
      "execution_count": 0,
      "outputs": [
        {
          "output_type": "execute_result",
          "data": {
            "image/png": "[encoded data removed]",
            "text/plain": [
              "<Figure size 1513.43x204.68 with 1 Axes>"
            ]
          },
          "metadata": {
            "tags": []
          },
          "execution_count": 21
        }
      ]
    },
    {
      "cell_type": "code",
      "metadata": {
        "id": "HQZSF6_HH1XH",
        "colab_type": "code",
        "outputId": "0d8fc7c5-84dc-490b-cf2e-6864e6b5b805",
        "colab": {
          "base_uri": "https://localhost:8080/",
          "height": 348
        }
      },
      "source": [
        "backend = Aer.get_backend('qasm_simulator')\n",
        "job_sim = execute(qc, backend)\n",
        "sim_result = job_sim.result()\n",
        "\n",
        "measurement_result = sim_result.get_counts(qc)\n",
        "print(measurement_result)\n",
        "plot_histogram(measurement_result)"
      ],
      "execution_count": 0,
      "outputs": [
        {
          "output_type": "stream",
          "text": [
            "{'10': 315, '00': 363, '01': 346}\n"
          ],
          "name": "stdout"
        },
        {
          "output_type": "execute_result",
          "data": {
            "image/png": "[encoded data removed]",
            "text/plain": [
              "<Figure size 504x360 with 1 Axes>"
            ]
          },
          "metadata": {
            "tags": []
          },
          "execution_count": 22
        }
      ]
    },
    {
      "cell_type": "code",
      "metadata": {
        "id": "Q9w8mfvWIGWO",
        "colab_type": "code",
        "colab": {}
      },
      "source": [
        ""
      ],
      "execution_count": 0,
      "outputs": []
    },
    {
      "cell_type": "code",
      "metadata": {
        "id": "ojlizjrZVima",
        "colab_type": "code",
        "colab": {}
      },
      "source": [
        ""
      ],
      "execution_count": 0,
      "outputs": []
    },
    {
      "cell_type": "code",
      "metadata": {
        "id": "M6YCCJglViup",
        "colab_type": "code",
        "colab": {}
      },
      "source": [
        "# Check whether a number is prime\n",
        "def isPrime(n) : \n",
        "    if (n <= 1) : \n",
        "        return False\n",
        "    if (n <= 3) : \n",
        "        return True\n",
        "  \n",
        "    if (n % 2 == 0 or n % 3 == 0) : \n",
        "        return False\n",
        "  \n",
        "    i = 5\n",
        "    while(i * i <= n) : \n",
        "        if (n % i == 0 or n % (i + 2) == 0) : \n",
        "            return False\n",
        "        i = i + 6\n",
        "  \n",
        "    return True"
      ],
      "execution_count": 0,
      "outputs": []
    },
    {
      "cell_type": "code",
      "metadata": {
        "id": "H3ryaZVVVsqg",
        "colab_type": "code",
        "colab": {}
      },
      "source": [
        "# Check whether prime is \"valid\"\n",
        "# that fits in 1....1 form\n",
        "def primeValid(n):\n",
        "    b = \"{0:b}\".format(n)\n",
        "    if b.endswith('1') and b.startswith('1'):\n",
        "        return True \n",
        "    else:\n",
        "        return False"
      ],
      "execution_count": 0,
      "outputs": []
    },
    {
      "cell_type": "code",
      "metadata": {
        "id": "PR0pZowQXJMe",
        "colab_type": "code",
        "colab": {}
      },
      "source": [
        "def primesBinNum(n):\n",
        "    return len(\"{0:b}\".format(n))\n",
        "\n",
        "def primesBinNumMatch(a, b):\n",
        "    return len(\"{0:b}\".format(a)) == len(\"{0:b}\".format(b))"
      ],
      "execution_count": 0,
      "outputs": []
    },
    {
      "cell_type": "code",
      "metadata": {
        "id": "pXQPKnsLV7pu",
        "colab_type": "code",
        "colab": {}
      },
      "source": [
        "# Check num of diff binary bits\n",
        "def numBinDiff(a, b): \n",
        "    count = 0 \n",
        "    for i in range(0,32): \n",
        "        if ((( a >>  i) & 1) != (( b >>  i) & 1)):  \n",
        "             count=count+1\n",
        "    return count"
      ],
      "execution_count": 0,
      "outputs": []
    },
    {
      "cell_type": "code",
      "metadata": {
        "id": "ZXUD0BOZVuFM",
        "colab_type": "code",
        "outputId": "f82fef4b-5772-4451-980a-5ee099be7ead",
        "colab": {
          "base_uri": "https://localhost:8080/",
          "height": 34
        }
      },
      "source": [
        "primesBinNumMatch(5, 2017)"
      ],
      "execution_count": 0,
      "outputs": [
        {
          "output_type": "execute_result",
          "data": {
            "text/plain": [
              "False"
            ]
          },
          "metadata": {
            "tags": []
          },
          "execution_count": 24
        }
      ]
    },
    {
      "cell_type": "code",
      "metadata": {
        "id": "gtkLRyFLfWbJ",
        "colab_type": "code",
        "colab": {}
      },
      "source": [
        "from collections import *"
      ],
      "execution_count": 0,
      "outputs": []
    },
    {
      "cell_type": "code",
      "metadata": {
        "id": "Ipk-eohcWtqc",
        "colab_type": "code",
        "colab": {}
      },
      "source": [
        "dic = defaultdict()\n",
        "for i in range(2, 100000):\n",
        "    if isPrime(i):\n",
        "        if primeValid(i):\n",
        "            binNum = primesBinNum(i)\n",
        "            if binNum not in dic:\n",
        "                dic[binNum] = [i]\n",
        "            else:\n",
        "                dic[binNum].append(i)\n",
        "    "
      ],
      "execution_count": 0,
      "outputs": []
    },
    {
      "cell_type": "code",
      "metadata": {
        "id": "lw12y8osgDgp",
        "colab_type": "code",
        "colab": {}
      },
      "source": [
        "Diff_2 = []\n",
        "for key in dic:\n",
        "    lst = dic[key]\n",
        "    for i in range(len(lst)):\n",
        "        for j in range(i, len(lst)):\n",
        "            a, b = lst[i], lst[j]\n",
        "            if numBinDiff(a, b) == 2:\n",
        "                Diff_2.append((a,b))"
      ],
      "execution_count": 0,
      "outputs": []
    },
    {
      "cell_type": "code",
      "metadata": {
        "id": "uT8oc7sFgtEs",
        "colab_type": "code",
        "outputId": "bf9c526b-2932-4699-f939-6718f21ad43b",
        "colab": {
          "base_uri": "https://localhost:8080/",
          "height": 102
        }
      },
      "source": [
        "Diff_2[70000:70005]"
      ],
      "execution_count": 0,
      "outputs": [
        {
          "output_type": "execute_result",
          "data": {
            "text/plain": [
              "[(80209, 96337),\n",
              " (80209, 96601),\n",
              " (80221, 80341),\n",
              " (80221, 80669),\n",
              " (80221, 80989)]"
            ]
          },
          "metadata": {
            "tags": []
          },
          "execution_count": 28
        }
      ]
    },
    {
      "cell_type": "code",
      "metadata": {
        "id": "_5nf7_x2ixOd",
        "colab_type": "code",
        "outputId": "9b5f8168-6630-40f8-a510-99071ca8efd4",
        "colab": {
          "base_uri": "https://localhost:8080/",
          "height": 34
        }
      },
      "source": [
        "len(Diff_2)"
      ],
      "execution_count": 0,
      "outputs": [
        {
          "output_type": "execute_result",
          "data": {
            "text/plain": [
              "82476"
            ]
          },
          "metadata": {
            "tags": []
          },
          "execution_count": 29
        }
      ]
    },
    {
      "cell_type": "code",
      "metadata": {
        "id": "W3enTUE3rUMO",
        "colab_type": "code",
        "colab": {}
      },
      "source": [
        "def check_1100(a, b):\n",
        "    tmp = 0\n",
        "    for i in range(0,32): \n",
        "        if ((( a >>  i) & 1) != (( b >>  i) & 1)):  \n",
        "            tmp += (a>>i) & 1\n",
        "    if tmp == 1:\n",
        "        return False\n",
        "    else:\n",
        "        return True\n"
      ],
      "execution_count": 0,
      "outputs": []
    },
    {
      "cell_type": "code",
      "metadata": {
        "id": "bxggnKcXsn9P",
        "colab_type": "code",
        "colab": {}
      },
      "source": [
        "Diff_2_1001 = []\n",
        "for pair in Diff_2:\n",
        "    if not check_1100(pair[0], pair[1]):\n",
        "        Diff_2_1001.append(pair)"
      ],
      "execution_count": 0,
      "outputs": []
    },
    {
      "cell_type": "code",
      "metadata": {
        "id": "bDrXeYrOsxod",
        "colab_type": "code",
        "outputId": "1b5690ac-5fcc-4c6f-e1b4-a7aa3f7b4b5a",
        "colab": {
          "base_uri": "https://localhost:8080/",
          "height": 34
        }
      },
      "source": [
        "len(Diff_2_1001)"
      ],
      "execution_count": 0,
      "outputs": [
        {
          "output_type": "execute_result",
          "data": {
            "text/plain": [
              "41654"
            ]
          },
          "metadata": {
            "tags": []
          },
          "execution_count": 15
        }
      ]
    },
    {
      "cell_type": "code",
      "metadata": {
        "id": "3h5EQDW8xVbm",
        "colab_type": "code",
        "colab": {}
      },
      "source": [
        "lst = []\n",
        "for pair in Diff_2_1001:\n",
        "    num = pair[0] * pair[1]\n",
        "    if num > 9000000000:\n",
        "        lst.append(num)"
      ],
      "execution_count": 0,
      "outputs": []
    },
    {
      "cell_type": "code",
      "metadata": {
        "id": "znCQuCfUso5f",
        "colab_type": "code",
        "outputId": "1c22b0dc-06c6-4a29-cd38-79fe0119c371",
        "colab": {
          "base_uri": "https://localhost:8080/",
          "height": 54
        }
      },
      "source": [
        "print(lst)"
      ],
      "execution_count": 0,
      "outputs": [
        {
          "output_type": "stream",
          "text": [
            "[9003152533, 9008112889, 9004792969, 9008969713, 9013429921, 9010108993, 9014569489, 9015870467, 9020648401, 9003652249, 9027270947, 9037375969, 9016184329, 9037028201, 9043082089, 9044199013, 9044968193, 9045526691, 9003747761, 9027584689, 9039503153, 9048442001, 9031386409, 9032527081, 9050409769, 9057164881, 9016279577, 9062496361, 9072434417, 9071737033, 9084194773, 9084381347, 9086888809, 9004979353, 9099844289, 9011813953, 9107089093, 9107275907, 9097796153, 9105301993, 9094230289, 9120839509, 9025870993, 9098809249, 9122367973, 9122010361, 9121660817, 9123156769, 9124303249, 9034994929, 9106825201, 9124782769, 9129272161, 9112171129, 9135747493, 9136129909, 9136520513, 9128732969, 9140337013, 9120575041, 9151050373, 9136247209, 9148238633, 9160042691, 9119139857, 9166936547, 9178366369, 9178749673, 9190922281, 9103189633, 9197827729, 9188462873, 9105861673, 9011605649, 9191914769, 9197925073, 9013884233, 9203233001, 9206050691, 9207422929, 9017302649, 9203681593, 9115025929, 9210853909, 9118463713, 9198302929, 9222180707, 9126487729, 9198686641, 9037826753, 9224419969, 9139868929, 9212121601, 9233195297, 9143693929, 9238545721, 9049239113, 9220187281, 9057232049, 9157087729, 9229409521, 9252763433, 9235560241, 9236713729, 9260453893, 9069426721, 9073642057, 9075904129, 9076674473, 9082391993, 9083712067, 9083933161, 9086762371, 9081296537, 9086955077, 9086602177, 9088111313, 9091338787, 9081740209, 9082883881, 9003850979, 9099928801, 9006700961, 9007458181, 9102989969, 9104122757, 9010501609, 9011634661, 9012396161, 9008247169, 9098902849, 9015241379, 9009765841, 9109495537, 9016571749, 9107618657, 9112907689, 9113474371, 9018477073, 9019232777, 9019610629, 9113695777, 9095206313, 9118636609, 9105509513, 9034432501, 9130864321, 9010987873, 9125952161, 9131624741, 9131813827, 9029900329, 9035762243, 9014025793, 9038043779, 9111236033, 9131685161, 9134711497, 9042418549, 9045081349, 9130218649, 9142717729, 9046989673, 9048125029, 9048511609, 9146160481, 9006136297, 9004244281, 9031503769, 9128426393, 9149628217, 9152467747, 9001987777, 9013350217, 9062208709, 9135307073, 9153486977, 9159168197, 9039488473, 9063351109, 9160316741, 9006162937, 9015255001, 9063746009, 9065261353, 9117941257, 9166249987, 9021704753, 9069826069, 9118705201, 9169519913, 9170277889, 9172600777, 9006185401, 9077460713, 9078977209, 9080114581, 9174516457, 9176791201, 9131314897, 9007329433, 9084695209, 9182540161, 9183109027, 9003349027, 9082431409, 9003160921, 9004678313, 9005816357, 9017955493, 9090790309, 9182213177, 9006196201, 9018335849, 9085862641, 9091173737, 9140491057, 9186014737, 9017199137, 9018716689, 9020044547, 9092887043, 9190010371, 9178442881, 9002404097, 9096518113, 9052505489, 9098052209, 9006959021, 9011134753, 9029356129, 9102241633, 9103380469, 9188793169, 9028597817, 9055931033, 9092375321, 9103764161, 9104333603, 9153115801, 9189560089, 9201518371, 9013793417, 9014932613, 9158091577, 9016451989, 9063926489, 9033922993, 9039620053, 9106845361, 9112542421, 9161537137, 9209962147, 9029746529, 9035824033, 9102676577, 9163451617, 9025189937, 9119422993, 9025189997, 9027469973, 9035449889, 9027850081, 9120959009, 9101966569, 9123251273, 9174942697, 9036022403, 9042104131, 9078784553, 9224555971, 9039825859, 9048951907, 9040016177, 9041347171, 9049903561, 9134326609, 9231679313, 9233010307, 9052186849, 9132056569, 9042868787, 9053518531, 9135863873, 9233232961, 9235515049, 9048003617, 9114946273, 9137767633, 9230574497, 9051807577, 9133967929, 9054851513, 9117237769, 9214621193, 9235923817, 9191425801, 9240699427, 9196028377, 9243974401, 9244545187, 9057899029, 9125260273, 9243998737, 9246662741, 9236787169, 9245921857, 9150031249, 9109682489, 9134050873, 9152327161, 9063991829, 9134433169, 9157279009, 9158421301, 9136727113, 9209843017, 9252493961, 9162632629, 9211762537, 9115410089, 9139786153, 9158068201, 9161115209, 9163412513, 9251786881, 9073133813, 9118848533, 9167991857, 9265135637, 9075420161, 9084564833, 9171439217, 9079992737, 9268990561, 9076372891, 9087804931, 9121529449, 9267859561, 9086090737, 9088377289, 9078850073, 9081136769, 9083804581, 9101717033, 9102098149, 9126108457, 9126680131, 9088759921, 9091618531, 9102481249, 9103624693, 9126874721, 9271710961, 9086855429, 9132604709, 9096005993, 9097149797, 9109350373, 9132607721, 9274439417, 9111449987, 9281704009, 9282275971, 9107830009, 9135287641, 9284016481, 9097535017, 9118897673, 9143312137, 9100778179, 9103639669, 9146371253, 9281052049, 9293070307, 9121192481, 9145613089, 9147143281, 9295968841, 9108220393, 9295993177, 9109365673, 9141426457, 9152876737, 9153449251, 9202494617, 9299440321, 9107839189, 9125016409, 9143338777, 9121200929, 9127309153, 9152124713, 9136858693, 9296087641, 9159772249, 9162063457, 9297244729, 9115475609, 9115857493, 9138770533, 9309472681, 9116621357, 9140300149, 9162069361, 9164742773, 9164933731, 9305669777, 9310252769, 9311398517, 9138391481, 9139919209, 9140683073, 9141255971, 9165126721, 9309497017, 9311788609, 9127508483, 9133620931, 9170295619, 9316994371, 9125789837, 9126554053, 9137253077, 9149862641, 9320664917, 9126936209, 9137635681, 9318762457, 9321055201, 9321628387, 9138400889, 9321835769, 9132668969, 9134197753, 9177768097, 9132669209, 9139550177, 9176248673, 9323042657, 9137256857, 9147197281, 9307008713, 9329948153, 9150258049, 9331509961, 9335537347, 9167088641, 9179327617, 9144523093, 9181627177, 9193485173, 9328513321, 9340371317, 9182393761, 9329286049, 9155044163, 9332763721, 9160212617, 9183180857, 9201555449, 9161361161, 9162126817, 9162701059, 9208066177, 9257833817, 9331336793, 9197732161, 9258988481, 9353935777, 9163658513, 9164232851, 9211711459, 9164998747, 9188931497, 9207311849, 9210375241, 9335974313, 9348227881, 9360289987, 9213058721, 9360876649, 9179552131, 9191807747, 9314555401, 9173999897, 9175149173, 9195453049, 9270539081, 9367844449, 9174957787, 9370355107, 9176681989, 9196989257, 9370942081, 9177065173, 9187410601, 9187985347, 9200055013, 9323050657, 9183196457, 9373265641, 9189711169, 9190285987, 9201207529, 9276317081, 9373652929, 9374227747, 9376751521, 9211570129, 9378744737, 9202369441, 9289035017, 9203903873, 9199495387, 9200070853, 9204674581, 9392276497, 9201221893, 9347399401, 9396125237, 9201797467, 9205826233, 9348559657, 9385394089, 9300604337, 9386556721, 9397300769, 9208129537, 9396185657, 9401558689, 9226169593, 9210816533, 9211008451, 9231159841, 9232311349, 9392370961, 9398512337, 9403910377, 9406789507, 9213696143, 9231933673, 9235005257, 9360940201, 9232318009, 9404330297, 9230401781, 9365972137, 9414746741, 9366746401, 9371779897, 9235399897, 9238858561, 9242703721, 9329559137, 9403347809, 9427559717, 9425289857, 9389989201, 9426905809, 9248476417, 9249245893, 9249438227, 9251169233, 9444849571, 9250592399, 9253477769, 9423141113, 9435452281, 9446224553, 9255401989, 9453404227, 9443613889, 9449772161, 9455737987, 9268682851, 9314887171, 9267142747, 9269453059, 9272340949, 9291015971, 9364753429, 9268875589, 9270030817, 9273496501, 9291595073, 9274652449, 9275422697, 9281584681, 9317790241, 9278119429, 9293911481, 9278698267, 9279468851, 9281010019, 9370590409, 9280046873, 9281588137, 9291221281, 9291799267, 9322817849, 9282358961, 9286983137, 9300091369, 9310114577, 9334787089, 9384132113, 9299708969, 9318221417, 9395163779, 9300094933, 9304337897, 9304916483, 9345224641, 9385339937, 9394597313, 9397490243, 9322855481, 9325748771, 9338286361, 9350438179, 9399238337, 9303374107, 9321313993, 9305496209, 9317071529, 9308969093, 9324790009, 9398878201, 9326721409, 9332510149, 9357401731, 9406606021, 9406798979, 9310320091, 9334055893, 9358949539, 9357215689, 9359531521, 9359917493, 9403532329, 9334830289, 9320357539, 9323253349, 9323446403, 9415919269, 9416112323, 9326344073, 9419038793, 9421742389, 9329241743, 9330400787, 9421772089, 9427760483, 9330593989, 9422160361, 9427955701, 9356483057, 9405942769, 9424490161, 9429127009, 9391292777, 9392452709, 9417584569, 9347408899, 9393229057, 9393809059, 9351082501, 9443499977, 9375064241, 9387441457, 9396724369, 9357272389, 9376226177, 9400788739, 9448946833, 9406219171, 9431175769, 9454010273, 9401773193, 9361142993, 9460609189, 9411072617, 9460615273, 9366949073, 9371982337, 9375467029, 9468004961, 9372369577, 9372756773, 9374692753, 9380887889, 9393278161, 9398704933, 9470352473, 9471901609, 9473063461, 9375080621, 9473452789, 9387668131, 9400061987, 9473844161, 9474425123, 9385539617, 9391544131, 9397936033, 9380697307, 9477742009, 9430869233, 9397555177, 9409957481, 9393292417, 9397750403, 9404146529, 9415775849, 9441360353, 9490203497, 9490591141, 9404537953, 9412294193, 9421601681, 9486754097, 9497612833, 9405701713, 9407059139, 9425675267, 9498782353, 9406090081, 9406477973, 9423546409, 9502681273, 9419280713, 9431307349, 9456524489, 9505794901, 9408805997, 9507354949, 9502314961, 9507747017, 9411716147, 9432087617, 9434803813, 9503484769, 9431702473, 9512035861, 9428212201, 9432486337, 9497719393, 9521016913, 9434040337, 9499278769, 9430352051, 9431323081, 9503567713, 9528037669, 9443754197, 9512928769, 9534690593, 9440648533, 9441037189, 9442591733, 9514489393, 9538973461, 9442786267, 9443757977, 9540151609, 9541722473, 9548358073, 9456589829, 9553042981, 9530493169, 9554608937, 9509109689, 9555794009, 9492004453, 9480133987, 9517498339, 9478384549, 9481888321, 9484808131, 9497071333, 9480916891, 9483253699, 9503700769, 9499417009, 9504090721, 9483838081, 9504870649, 9482864399, 9501366409, 9529411561, 9526685849, 9529802041, 9502926073, 9510719653, 9494163619, 9540342121, 9540731813, 9529822777, 9546593333, 9535680937, 9503714593, 9504884149, 9520868081, 9536462161, 9545818609, 9548742499, 9506249999, 9508394977, 9543494617, 9555779491, 9555975509, 9509565253, 9523218473, 9535506371, 9515612303, 9516782867, 9517758337, 9518343619, 9521465123, 9527708131, 9565166179, 9516977989, 9518538773, 9521660341, 9527903477, 9565362293, 9519709697, 9522831649, 9529075553, 9566538977, 9520685467, 9569861251, 9524393393, 9530638321, 9568107889, 9570449737, 9527712091, 9533763857, 9539229961, 9571245713, 9582198721, 9548021827, 9545484617, 9577521361, 9567757841, 9553302181, 9572453537, 9597272131, 9606098521, 9607274689, 9562492943, 9612168739, 9609627241, 9612365333, 9568947977, 9570121733, 9572077993, 9571687189, 9573643769, 9595166149, 9596343121, 9573839707, 9577166513, 9583428721, 9586364131, 9598888547, 9585385889, 9576579599, 9579515609, 9579907093, 9603396133, 9580690157, 9586562897, 9593414947, 9604573609, 9610064417, 9590089037, 9595572949, 9614374933, 9593418691, 9595964897, 9614767649, 9595769539, 9601843337, 9622416707, 9611249273, 9622222249, 9604391779, 9620265673, 9630070313, 9609096451, 9629678761, 9637922053, 9617528617, 9634793513, 9638329601, 9644414467, 9650703683, 9659547893, 9672131509, 9671738449, 9690616081, 9691009849, 9674098549, 9674295203, 9680588131, 9718345699, 9768492469, 9768689123, 9681573721, 9683934049, 9684524131, 9695347009, 9680198543, 9703614649, 9704992067, 9730179139, 9774453289, 9780553283, 9686692217, 9705189349, 9724473593, 9730376933, 9774848761, 9779571433, 9780752101, 9684331277, 9685118533, 9696336931, 9731173009, 9778408369, 9685512209, 9694172377, 9779199481, 9730391273, 9733540681, 9736493251, 9707166409, 9711891001, 9735513961, 9693386881, 9693977539, 9740639521, 9741230179, 9730799161, 9781207097, 9698900713, 9719183267, 9743798017, 9696340891, 9743014249, 9744198769, 9699295189, 9722930149, 9724114921, 9753867619, 9803712161, 9804303203, 9724909009, 9731017187, 9805300513, 9752894873, 9756047929, 9758806853, 9748563361, 9758023489, 9760979779, 9799017377, 9810842537, 9811236709, 9727083907, 9719002081, 9730835449, 9735569257, 9728665907, 9777584899, 9732019657, 9732611491, 9779958211, 9830461379, 9755298977, 9774238049, 9778972817, 9805803169, 9734979547, 9784705699, 9810160753, 9829104049, 9782932681, 9785300737, 9833451209, 9836213941, 9744453787, 9749981603, 9832306577, 9843362209, 9844744163, 9745835777, 9746625481, 9843759073, 9750574241, 9845342561, 9748205273, 9797174857, 9823239313, 9845354609, 9798163171, 9774271841, 9797968721, 9758871173, 9850927609, 9856853989, 9760254211, 9807668131, 9856860073, 9856486561, 9859648193, 9861229009, 9800765137, 9813214819, 9857677969, 9863804003, 9807484913, 9810646801, 9839103793, 9862817953, 9774682789, 9793659493, 9819357113, 9774881423, 9775276891, 9777847433, 9780813443, 9784174921, 9787140931, 9872759753, 9775474637, 9781011301, 9786152489, 9787338917, 9798807721, 9874739113, 9781407017, 9787734889, 9875534113, 9779232091, 9779825413, 9791098531, 9797625073, 9803558293, 9879503509, 9791692609, 9792088181, 9799604833, 9804351889, 9831251873, 9783979171, 9787341737, 9804747961, 9875955241, 9880702393, 9806728441, 9883877461, 9784968497, 9786155429, 9794463953, 9802376833, 9878340481, 9787738453, 9796048321, 9799016131, 9805545313, 9811678787, 9837201953, 9793278497, 9798027089, 9807922009, 9890041379, 9791102491, 9796644259, 9882346217, 9893430073, 9798426133, 9800405753, 9803177221, 9809907929, 9822181573, 9885925337, 9804365713, 9823372369, 9822977777, 9825749749, 9899009009, 9803970221, 9806346533, 9806742697, 9855062993, 9808525219, 9830706371, 9828135553, 9824175593, 9833684681, 9817044557, 9819620611, 9822592981, 9822989537, 9823386193, 9822990257, 9824179493, 9824377699, 9833296969, 9897515713, 9834883397, 9898709593, 9825765589, 9825963827, 9830721539, 9827153423, 9838850881, 9839445667, 9877710233, 9832110073, 9839644181, 9903485833, 9904680073, 9832903777, 9881288489, 9846392137, 9851352547, 9847981973, 9921406993, 9851356507, 9855128273, 9857114053, 9914716793, 9870025103, 9872806819, 9875985923, 9873005573, 9874992553, 9876184741, 9874198157, 9924477859, 9887116387, 9925274851, 9878968193, 9883341649, 9888112417, 9903617413, 9926278561, 9929260291, 9880161197, 9880956373, 9881354009, 9896069137, 9905614513, 9900047401, 9900445157, 9896867093, 9900050101, 9919148149, 9935866177, 9947804617, 9902836913, 9921940337, 9937859857, 9905424667, 9943044361, 9949413833, 9924732913, 9925131409, 9913388131, 9923144129, 9912392717, 9913189189, 9913587473, 9914184851, 9935093081, 9938079971, 9914981467, 9939477409, 9953816497, 9929121929, 9941071649, 9941469973, 9921952877, 9923148161, 9927530869, 9932710433, 9934104931, 9927929537, 9934305937, 9935105429, 9946068931, 9959025641, 9938694053, 9938893411, 9949859401, 9941685263, 9954048931, 9953849761, 9954248597, 9945275027, 9949463813, 9952655269, 9972202937, 9955449473, 9957045649, 9959639843, 9960438979, 9960239537, 9966228557, 9976613113, 9983004089, 9977212771, 9986201161, 9975814637, 9986203861, 9987802697, 9985205467]\n"
          ],
          "name": "stdout"
        }
      ]
    },
    {
      "cell_type": "code",
      "metadata": {
        "id": "S2wbbaHfjQH2",
        "colab_type": "code",
        "outputId": "6b3bbf53-c7d7-4d6d-abbe-5877dc41b633",
        "colab": {
          "base_uri": "https://localhost:8080/",
          "height": 185
        }
      },
      "source": [
        "# Random trying...\n",
        "phi = pi/4\n",
        "theta = 2 * asin(sin(pi/6) / sin(phi) )\n",
        "\n",
        "qr = QuantumRegister(2)   # Protocol uses 3 qubits\n",
        "cx = ClassicalRegister(2)\n",
        "qc = QuantumCircuit(qr, cx)\n",
        "\n",
        "\n",
        "\n",
        "qc.h(0)\n",
        "qc.h(1)\n",
        "qc.barrier()\n",
        "\n",
        "# qc.x(0)\n",
        "qc.x(1)\n",
        "qc.cx(0, 1)\n",
        "qc.u1(-theta,1)\n",
        "qc.cx(0, 1)\n",
        "# qc.x(0)\n",
        "qc.x(1)\n",
        "qc.barrier()\n",
        "\n",
        "qc.h(0)\n",
        "qc.h(1)\n",
        "qc.barrier()\n",
        "\n",
        "qc.x(0)\n",
        "qc.x(1)\n",
        "qc.barrier()\n",
        "\n",
        "qc.u1(theta/2,1)\n",
        "qc.cx(0, 1)\n",
        "qc.u1(-theta/2,1)\n",
        "qc.cx(0, 1)\n",
        "qc.u1(theta/2,0)\n",
        "qc.barrier()\n",
        "\n",
        "qc.x(0)\n",
        "qc.x(1)\n",
        "qc.barrier()\n",
        "\n",
        "qc.h(0)\n",
        "qc.h(1)\n",
        "qc.barrier()\n",
        "\n",
        "qc.measure(0,0)\n",
        "qc.measure(1,1)\n",
        "qc.draw('mpl')"
      ],
      "execution_count": 0,
      "outputs": [
        {
          "output_type": "execute_result",
          "data": {
            "image/png": "[encoded data removed]",
            "text/plain": [
              "<Figure size 1633.83x204.68 with 1 Axes>"
            ]
          },
          "metadata": {
            "tags": []
          },
          "execution_count": 6
        }
      ]
    },
    {
      "cell_type": "code",
      "metadata": {
        "id": "f20fuUrGpdP_",
        "colab_type": "code",
        "outputId": "26f2efcc-4e30-4d8d-944a-dae4f2eb6e2b",
        "colab": {
          "base_uri": "https://localhost:8080/",
          "height": 348
        }
      },
      "source": [
        "backend = Aer.get_backend('qasm_simulator')\n",
        "job_sim = execute(qc, backend)\n",
        "sim_result = job_sim.result()\n",
        "\n",
        "measurement_result = sim_result.get_counts(qc)\n",
        "print(measurement_result)\n",
        "plot_histogram(measurement_result)"
      ],
      "execution_count": 0,
      "outputs": [
        {
          "output_type": "stream",
          "text": [
            "{'01': 491, '10': 533}\n"
          ],
          "name": "stdout"
        },
        {
          "output_type": "execute_result",
          "data": {
            "image/png": "[encoded data removed]",
            "text/plain": [
              "<Figure size 504x360 with 1 Axes>"
            ]
          },
          "metadata": {
            "tags": []
          },
          "execution_count": 6
        }
      ]
    },
    {
      "cell_type": "code",
      "metadata": {
        "id": "HqxWEMZJc5AY",
        "colab_type": "code",
        "outputId": "f63806ed-5171-4176-f4ea-b63638fbc05c",
        "colab": {
          "base_uri": "https://localhost:8080/",
          "height": 34
        }
      },
      "source": [
        "from qiskit.providers.ibmq import least_busy\n",
        "IBMQ.load_account()\n",
        "provider = IBMQ.get_provider(hub='ibm-q')\n",
        "provider.backends()\n",
        "backend = least_busy(provider.backends(filters=lambda b: b.configuration().n_qubits >= 3 and\n",
        "                                    not b.configuration().simulator and b.status().operational==True))\n",
        "job_exp = execute(qc, backend=backend, shots=8192)\n",
        "\n",
        "exp_result = job_exp.result()\n",
        "exp_measurement_result = exp_result.get_counts(qc)"
      ],
      "execution_count": 0,
      "outputs": [
        {
          "output_type": "stream",
          "text": [
            "Credentials are already in use. The existing account in the session will be replaced.\n"
          ],
          "name": "stderr"
        }
      ]
    },
    {
      "cell_type": "code",
      "metadata": {
        "id": "oJU9jl4WfS8_",
        "colab_type": "code",
        "outputId": "fdce568d-cdcf-4ffb-f41c-1faed69bf47d",
        "colab": {
          "base_uri": "https://localhost:8080/",
          "height": 348
        }
      },
      "source": [
        "print(exp_measurement_result)\n",
        "plot_histogram(exp_measurement_result)"
      ],
      "execution_count": 0,
      "outputs": [
        {
          "output_type": "stream",
          "text": [
            "{'11': 369, '01': 3184, '00': 941, '10': 3698}\n"
          ],
          "name": "stdout"
        },
        {
          "output_type": "execute_result",
          "data": {
            "image/png": "[encoded data removed]",
            "text/plain": [
              "<Figure size 504x360 with 1 Axes>"
            ]
          },
          "metadata": {
            "tags": []
          },
          "execution_count": 79
        }
      ]
    },
    {
      "cell_type": "code",
      "metadata": {
        "id": "hBVe-AwbznsK",
        "colab_type": "code",
        "colab": {}
      },
      "source": [
        ""
      ],
      "execution_count": 0,
      "outputs": []
    },
    {
      "cell_type": "code",
      "metadata": {
        "id": "WSY1cBpbznuN",
        "colab_type": "code",
        "colab": {}
      },
      "source": [
        ""
      ],
      "execution_count": 0,
      "outputs": []
    },
    {
      "cell_type": "code",
      "metadata": {
        "id": "u1HpJpmWznxF",
        "colab_type": "code",
        "colab": {}
      },
      "source": [
        ""
      ],
      "execution_count": 0,
      "outputs": []
    },
    {
      "cell_type": "code",
      "metadata": {
        "id": "ZJ-N7Gobzny4",
        "colab_type": "code",
        "colab": {}
      },
      "source": [
        ""
      ],
      "execution_count": 0,
      "outputs": []
    }
  ]
}